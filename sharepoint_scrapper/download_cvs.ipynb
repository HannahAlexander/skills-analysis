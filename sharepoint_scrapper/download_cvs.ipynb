{
 "cells": [
  {
   "cell_type": "code",
   "execution_count": 1,
   "metadata": {},
   "outputs": [],
   "source": [
    "from download import get_file, get_files_by_pattern, get_files"
   ]
  },
  {
   "cell_type": "code",
   "execution_count": 2,
   "metadata": {},
   "outputs": [],
   "source": [
    "# folder name in Sharepoint\n",
    "FOLDER_NAME =  \"\"\n",
    "\n",
    "# File path to save CVs to\n",
    "FOLDER_DEST = \"C:/Users/hannah.alexander/OneDrive - Ascent Software Ltd/Documents/Internal projects/ascent-skills-analysis/storage\"\n",
    "\n",
    "# Any specific file names?\n",
    "FILE_NAME = None\n",
    "\n",
    "# Only get file names containing docx (so we dont import bot hthe word docs and pdfs)\n",
    "FILE_NAME_PATTERN = \"docx\""
   ]
  },
  {
   "cell_type": "code",
   "execution_count": 3,
   "metadata": {},
   "outputs": [],
   "source": [
    "if FILE_NAME != None:\n",
    "    get_file(FILE_NAME, FOLDER_NAME)\n",
    "elif FILE_NAME_PATTERN != None:\n",
    "    get_files_by_pattern(FILE_NAME_PATTERN, FOLDER_NAME, FOLDER_DEST)\n",
    "else:\n",
    "    get_files(FOLDER_NAME)"
   ]
  }
 ],
 "metadata": {
  "kernelspec": {
   "display_name": "Python 3.9.13 ('env': venv)",
   "language": "python",
   "name": "python3"
  },
  "language_info": {
   "codemirror_mode": {
    "name": "ipython",
    "version": 3
   },
   "file_extension": ".py",
   "mimetype": "text/x-python",
   "name": "python",
   "nbconvert_exporter": "python",
   "pygments_lexer": "ipython3",
   "version": "3.9.13 (tags/v3.9.13:6de2ca5, May 17 2022, 16:36:42) [MSC v.1929 64 bit (AMD64)]"
  },
  "orig_nbformat": 4,
  "vscode": {
   "interpreter": {
    "hash": "118e169a3cd44923ecbcd428ccef0f6ba396bf442e018e1a6b366c1a7b9cde3c"
   }
  }
 },
 "nbformat": 4,
 "nbformat_minor": 2
}
